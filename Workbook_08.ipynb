{
 "cells": [
  {
   "cell_type": "code",
   "execution_count": 1,
   "id": "ab4d04d1-8fb7-49cf-9f24-52aa80a32bd9",
   "metadata": {},
   "outputs": [],
   "source": [
    "from dataclasses import dataclass\n",
    "from typing import List, Dict\n",
    "from cs103 import start_testing, expect, summary"
   ]
  },
  {
   "cell_type": "markdown",
   "id": "2f1f00a0-db1a-4c90-8212-6cb8f8917e75",
   "metadata": {},
   "source": [
    "# Workbook_08\n",
    "\n",
    "This workbook only has two tasks, each of which asks you to design one class."
   ]
  },
  {
   "cell_type": "markdown",
   "id": "e4498883-6c38-4e77-baab-f992dec6181f",
   "metadata": {},
   "source": [
    "# Task 1\n",
    "\n",
    "Design a class called `Rebar` which takes three arguments upon instantiation and stores them in the following three attributes: \n",
    "\n",
    "1. `name`, \n",
    "2. `diameter`\n",
    "3. `area`\n",
    "\n",
    "This could either be a custom class (where you have to write a `def __init__(...)` method) or be based on a `dataclass`.\n",
    "\n",
    "Feel free to use the dictionary of rebar from Workbook_05.\n",
    "\n",
    "The class should have the following behaviour:\n",
    "\n",
    "1. When printed, it should just display it's name (e.g. `\"15M\"` or `\"20M\"`, etc.)\n",
    "2. When two `Rebar` objects are added together, they should add their diameters and return a float representing the diameter of bar A plus the diameter of bar B.\n",
    "3. When a `Rebar` object is multiplied by an `int` then it should multiply it's area by the integer, returning an integer representing the area of that many bars.\n",
    "\n",
    "To check whether an argument is a of a certain type, such as an `int` or a `Rebar`, you can use the built-in function `isinstance()`.\n",
    "\n",
    "For example:\n",
    "\n",
    "```python\n",
    "a = 4\n",
    "isinstance(a, int) # returns True\n",
    "```\n",
    "\n",
    "**Write three tests:**\n",
    "1. Test to confirm the correct representation (use the `repr()` function to get the representation of your `Rebar` objects)\n",
    "2. Test that addition of `Rebar` objects return the correct value\n",
    "3. Test that multiplication of `Rebar` objects with an `int` return the correct value"
   ]
  },
  {
   "cell_type": "markdown",
   "id": "e34b40ed-12af-4190-b6ac-d132c35650c7",
   "metadata": {},
   "source": [
    "## Class"
   ]
  },
  {
   "cell_type": "code",
   "execution_count": null,
   "id": "d4cafc18-adc8-40c5-b79c-48ddaed68fb7",
   "metadata": {},
   "outputs": [],
   "source": []
  },
  {
   "cell_type": "markdown",
   "id": "64b2509b-c080-41c7-bdce-9fd46bd6b028",
   "metadata": {},
   "source": [
    "## Tests"
   ]
  },
  {
   "cell_type": "code",
   "execution_count": null,
   "id": "03e21df1-5aec-40c9-8b9d-faa190317abe",
   "metadata": {},
   "outputs": [],
   "source": []
  },
  {
   "cell_type": "markdown",
   "id": "343edacf-7bb8-4d00-b91e-5132f9203a14",
   "metadata": {},
   "source": [
    "# Task 2\n",
    "\n",
    "Design a class called `FileMaker` that takes one argument upon instantiation: `file_name`, which will be a `str`. The class can either be a custom class or based on a `dataclass`.\n",
    "\n",
    "The class will have the following attributes:\n",
    "\n",
    "1. `file_name: str`\n",
    "2. `file_data: List[str]` - This will start off as just an empty list at time of instantiation (like `hits` in the `Ship` class from the lesson).\n",
    "\n",
    "Using the file opening techniques you learned in Lesson_07 (the Revised one), the class should have the following methods:\n",
    "\n",
    "1. `.open()` - Takes no arguments; opens the file in `.file_name` and stores the accumulated file data in `.file_data` (by default, when you use the `open(...)` function, if no existing file name exists, then a new file will be created).\n",
    "2. `.insert_line(line: str, index: int)` - Inserts `line` into `file_data` at the given index (use one of the `list` methods to do this)\n",
    "3. `.remove_line(index: int)` - Removes the line from `file_data` at the given index (also a `list` method)\n",
    "4. `.show()` - Takes no arguments; prints all lines in the file with the line number in front of it\n",
    "5. `.save(new_file_name: Optional[str])` - Takes an optional (keyword) argument. If `new_file_name` is given, write the file with the given filename. Otherwise, use the file name in `file_name` to save the file.\n",
    "\n",
    "Note, in the revised Lesson 07, I demonstrated how to read lines in a file both with and without using the `csv` module. For this task, do not use the `csv` module.\n",
    "\n",
    "**Write three tests:**\n",
    "\n",
    "1. Test the data you have written to a file is the same as the data you read back in (can compare `.file_data` attributes of two `FileMaker` objects)\n",
    "2. Test the `FileMaker` inserts a line correctly\n",
    "3. Test the `FileMaker` removes a line correctly"
   ]
  },
  {
   "cell_type": "markdown",
   "id": "5c749107-2dad-49c8-bc37-397c355ad67b",
   "metadata": {},
   "source": [
    "## Class"
   ]
  },
  {
   "cell_type": "code",
   "execution_count": null,
   "id": "26c50c59-c87d-4184-b6f7-93d93ae51450",
   "metadata": {},
   "outputs": [],
   "source": []
  },
  {
   "cell_type": "markdown",
   "id": "1c3ea052-a5cc-4da1-95d4-3df4e9beae96",
   "metadata": {},
   "source": [
    "## Tests"
   ]
  },
  {
   "cell_type": "code",
   "execution_count": null,
   "id": "f90c5ac6-9ef3-4125-afda-70d31aa7c292",
   "metadata": {},
   "outputs": [],
   "source": []
  }
 ],
 "metadata": {
  "kernelspec": {
   "display_name": "Python 3",
   "language": "python",
   "name": "python3"
  },
  "language_info": {
   "codemirror_mode": {
    "name": "ipython",
    "version": 3
   },
   "file_extension": ".py",
   "mimetype": "text/x-python",
   "name": "python",
   "nbconvert_exporter": "python",
   "pygments_lexer": "ipython3",
   "version": "3.8.8"
  }
 },
 "nbformat": 4,
 "nbformat_minor": 5
}
